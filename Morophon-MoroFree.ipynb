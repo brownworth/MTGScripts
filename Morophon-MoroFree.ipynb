{
 "cells": [
  {
   "cell_type": "markdown",
   "metadata": {},
   "source": [
    "Python script to determine all spells that can be cast for free using Morophon"
   ]
  },
  {
   "cell_type": "code",
   "execution_count": 1,
   "metadata": {},
   "outputs": [],
   "source": [
    "import pandas as pd\n",
    "import numpy as np\n",
    "import re"
   ]
  },
  {
   "cell_type": "code",
   "execution_count": 2,
   "metadata": {},
   "outputs": [],
   "source": [
    "all_cards = pd.read_json('./scryfall-oracle-cards.json')"
   ]
  },
  {
   "cell_type": "code",
   "execution_count": 3,
   "metadata": {},
   "outputs": [
    {
     "data": {
      "text/plain": [
       "Index(['all_parts', 'arena_id', 'artist', 'artist_ids', 'booster',\n",
       "       'border_color', 'card_back_id', 'card_faces', 'cmc', 'collector_number',\n",
       "       'color_identity', 'color_indicator', 'colors', 'digital', 'edhrec_rank',\n",
       "       'flavor_text', 'foil', 'frame', 'frame_effects', 'full_art', 'games',\n",
       "       'hand_modifier', 'highres_image', 'id', 'illustration_id', 'image_uris',\n",
       "       'lang', 'layout', 'legalities', 'life_modifier', 'loyalty', 'mana_cost',\n",
       "       'mtgo_foil_id', 'mtgo_id', 'multiverse_ids', 'name', 'nonfoil',\n",
       "       'object', 'oracle_id', 'oracle_text', 'oversized', 'power', 'preview',\n",
       "       'prints_search_uri', 'promo', 'promo_types', 'rarity', 'related_uris',\n",
       "       'released_at', 'reprint', 'reserved', 'rulings_uri', 'scryfall_set_uri',\n",
       "       'scryfall_uri', 'set', 'set_name', 'set_search_uri', 'set_type',\n",
       "       'set_uri', 'story_spotlight', 'tcgplayer_id', 'textless', 'toughness',\n",
       "       'type_line', 'uri', 'variation', 'variation_of', 'watermark'],\n",
       "      dtype='object')"
      ]
     },
     "execution_count": 3,
     "metadata": {},
     "output_type": "execute_result"
    }
   ],
   "source": [
    "all_cards.columns"
   ]
  },
  {
   "cell_type": "code",
   "execution_count": 4,
   "metadata": {},
   "outputs": [
    {
     "data": {
      "text/plain": [
       "6433             Advice from the Fae\n",
       "8981                     Reaper King\n",
       "15131    Inzerva, Master of Insights\n",
       "Name: name, dtype: object"
      ]
     },
     "execution_count": 4,
     "metadata": {},
     "output_type": "execute_result"
    }
   ],
   "source": [
    "all_cards[all_cards['mana_cost'].str.contains('{2/U}',na=False)].name"
   ]
  },
  {
   "cell_type": "code",
   "execution_count": 8,
   "metadata": {},
   "outputs": [],
   "source": [
    "def isFree(test_mc):\n",
    "    find_mc = str(test_mc)\n",
    "    if find_mc == '':\n",
    "        return False\n",
    "    if find_mc == 'nan':\n",
    "        return False\n",
    "    if re.match(r'(.*?)\\s+//',find_mc):\n",
    "        find_mc = re.findall(r'(.*?)\\s+//',find_mc)[0]\n",
    "    if re.match('.*\\{C\\}.*',find_mc):\n",
    "        return False\n",
    "    if re.match('.*[HSC]+.*',find_mc):\n",
    "        return False\n",
    "    if re.match('.*\\{\\d{1,3}\\}.*',find_mc):\n",
    "        return False\n",
    "    if re.match('.*\\{X\\}{1,3}.*',find_mc):\n",
    "        return False\n",
    "    if re.match(r'.*({[WUBRG]})\\1.*',find_mc):\n",
    "        return False\n",
    "    if re.match(r'.*({\\w\\/\\w}){3,}.*',find_mc):\n",
    "        return False\n",
    "    return True"
   ]
  },
  {
   "cell_type": "code",
   "execution_count": 10,
   "metadata": {
    "scrolled": true
   },
   "outputs": [],
   "source": [
    "moro_cards = all_cards[((all_cards['type_line'].str.contains('Creature'))|(all_cards['type_line'].str.contains('Tribal')))&(all_cards['mana_cost'].map(isFree))]"
   ]
  },
  {
   "cell_type": "code",
   "execution_count": 12,
   "metadata": {},
   "outputs": [
    {
     "data": {
      "text/plain": [
       "Human          331\n",
       "Wizard         101\n",
       "Soldier         90\n",
       "Goblin          86\n",
       "Elf             83\n",
       "Warrior         80\n",
       "Cleric          70\n",
       "Shaman          58\n",
       "Merfolk         44\n",
       "Zombie          41\n",
       "Rogue           37\n",
       "Spirit          31\n",
       "Cat             31\n",
       "Druid           29\n",
       "Scout           27\n",
       "Knight          27\n",
       "Bird            24\n",
       "Vampire         24\n",
       "Elemental       22\n",
       "Sliver          21\n",
       "Insect          15\n",
       "Faerie          14\n",
       "Berserker       14\n",
       "Lizard          12\n",
       "Snake           12\n",
       "Vedalken        12\n",
       "Beast           11\n",
       "Dwarf           11\n",
       "Spellshaper     11\n",
       "Rat             10\n",
       "              ... \n",
       "Creature         1\n",
       "Frog             1\n",
       "Homunculus       1\n",
       "Demon            1\n",
       "Ox               1\n",
       "Turtle           1\n",
       "Viashino         1\n",
       "Pegasus          1\n",
       "Squirrel         1\n",
       "Mystic           1\n",
       "Rhino            1\n",
       "Scorpion         1\n",
       "Atog             1\n",
       "Fox              1\n",
       "Rigger           1\n",
       "Ouphe            1\n",
       "Villain          1\n",
       "Alicorn          1\n",
       "Nymph            1\n",
       "Ferret           1\n",
       "Waiter           1\n",
       "Worm             1\n",
       "Gremlin          1\n",
       "Kraken           1\n",
       "Aetherborn       1\n",
       "Mongoose         1\n",
       "Cephalid         1\n",
       "Crocodile        1\n",
       "Soltari          1\n",
       "Manticore        1\n",
       "Length: 150, dtype: int64"
      ]
     },
     "execution_count": 12,
     "metadata": {},
     "output_type": "execute_result"
    }
   ],
   "source": [
    "moro_cards['type_line'].str.split(' — ',1,expand=True).iloc[:,1].str.split('\\s+',-1,expand=True).stack().value_counts()"
   ]
  },
  {
   "cell_type": "code",
   "execution_count": 18,
   "metadata": {},
   "outputs": [
    {
     "data": {
      "text/plain": [
       "array(['Ana Disciple', 'Armorer Guildmage', 'Azorius Guildmage',\n",
       "       'Beamsplitter Mage', 'Benthic Biomancer', 'Boros Guildmage',\n",
       "       'Burrenton Forge-Tender', 'Caller of Gales', 'Cathartic Adept',\n",
       "       'Ceta Disciple', 'Civic Guildmage', 'Combine Guildmage',\n",
       "       \"Cosi's Trickster\", 'Cursecatcher', 'Dakra Mystic',\n",
       "       'Death Cultist', 'Dega Disciple', \"Demon's Herald\",\n",
       "       'Deputy of Acquittals', 'Derevi, Empyrial Tactician',\n",
       "       'Dimir Guildmage', 'Drifter il-Dal', 'Dromoka Dunecaster',\n",
       "       'Drowner Initiate', 'Duskmantle Guildmage', 'Enclave Cryptologist',\n",
       "       'Esper Sojourners', 'Esper Stormblade', 'Faerie Seer',\n",
       "       'Fugitive Wizard', 'Ghitu Lavarunner', 'Goblin Electromancer',\n",
       "       \"God-Pharaoh's Faithful\", 'Granger Guildmage', 'Grim Lavamancer',\n",
       "       'Grixis Illusionist', 'Hapless Researcher', 'House Guildmage',\n",
       "       'Imagecrafter', 'Izzet Guildmage', 'League Guildmage',\n",
       "       'Learned Learner', 'Legion Guildmage', 'Lightning Stormkin',\n",
       "       \"M'Odo, the Gnarled Oracle\", 'Magus of the Candelabra',\n",
       "       'Magus of the Scroll', 'Magus of the Vineyard', 'Martyr of Bones',\n",
       "       'Martyr of Frost', 'Meddling Mage',\n",
       "       'Merfolk Secretkeeper // Venture Deeper', 'Mistcaller',\n",
       "       'Necra Disciple', 'New Prahv Guildmage', 'Nightscape Apprentice',\n",
       "       'Nin, the Pain Artist', 'Nivix Guildmage', 'Orzhov Guildmage',\n",
       "       'Overwhelmed Apprentice', 'Puresight Merrow', 'Qasali Pridemage',\n",
       "       'Raka Disciple', 'Realmwright', 'Rootwater Mystic',\n",
       "       'Sage of Epityr', 'Selesnya Guildmage', 'Senate Guildmage',\n",
       "       'Shadow Guildmage', 'Shaper Guildmage', \"Sidisi's Faithful\",\n",
       "       'Simic Guildmage', 'Siren Stormtamer', 'Skywatcher Adept',\n",
       "       'Soul Diviner', 'Soul-Scar Mage', 'Spark Mage', \"Sphinx's Herald\",\n",
       "       'Stormchaser Mage', 'Stormscape Apprentice',\n",
       "       'Stream of Unconsciousness', 'Sunhome Guildmage',\n",
       "       'Sunscape Apprentice', 'Sygg, River Guide', 'Sylvan Safekeeper',\n",
       "       'Thornscape Apprentice', 'Thoughtpicker Witch',\n",
       "       'Thrasios, Triton Hero', 'Thunderscape Apprentice',\n",
       "       'Tidal Visionary', 'Tideshaper Mystic', 'Timebender',\n",
       "       'Vedalken Certarch', 'Viscera Seer', 'Vizkopa Guildmage',\n",
       "       'Wandering Mage', 'Windwright Mage', 'Wingcrafter', 'Xira Arien',\n",
       "       'Yidris, Maelstrom Wielder', 'Zameck Guildmage'], dtype=object)"
      ]
     },
     "execution_count": 18,
     "metadata": {},
     "output_type": "execute_result"
    }
   ],
   "source": [
    "np.sort(moro_cards[moro_cards['type_line'].str.contains('Wizard',na=False)].name)"
   ]
  }
 ],
 "metadata": {
  "kernelspec": {
   "display_name": "Python 3",
   "language": "python",
   "name": "python3"
  },
  "language_info": {
   "codemirror_mode": {
    "name": "ipython",
    "version": 3
   },
   "file_extension": ".py",
   "mimetype": "text/x-python",
   "name": "python",
   "nbconvert_exporter": "python",
   "pygments_lexer": "ipython3",
   "version": "3.7.3"
  }
 },
 "nbformat": 4,
 "nbformat_minor": 2
}
