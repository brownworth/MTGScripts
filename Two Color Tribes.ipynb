{
 "cells": [
  {
   "cell_type": "markdown",
   "metadata": {},
   "source": [
    "## "
   ]
  },
  {
   "cell_type": "code",
   "execution_count": 1,
   "metadata": {},
   "outputs": [],
   "source": [
    "import pandas as pd\n",
    "import numpy as np"
   ]
  },
  {
   "cell_type": "code",
   "execution_count": 6,
   "metadata": {},
   "outputs": [],
   "source": [
    "cards = pd.read_json('scryfall-oracle-cards.json')"
   ]
  },
  {
   "cell_type": "code",
   "execution_count": 7,
   "metadata": {},
   "outputs": [
    {
     "data": {
      "text/plain": [
       "Index(['all_parts', 'arena_id', 'artist', 'artist_ids', 'booster',\n",
       "       'border_color', 'card_back_id', 'card_faces', 'cmc', 'collector_number',\n",
       "       'color_identity', 'color_indicator', 'colors', 'digital', 'edhrec_rank',\n",
       "       'flavor_text', 'foil', 'frame', 'frame_effects', 'full_art', 'games',\n",
       "       'hand_modifier', 'highres_image', 'id', 'illustration_id', 'image_uris',\n",
       "       'lang', 'layout', 'legalities', 'life_modifier', 'loyalty', 'mana_cost',\n",
       "       'mtgo_foil_id', 'mtgo_id', 'multiverse_ids', 'name', 'nonfoil',\n",
       "       'object', 'oracle_id', 'oracle_text', 'oversized', 'power', 'preview',\n",
       "       'prints_search_uri', 'promo', 'promo_types', 'rarity', 'related_uris',\n",
       "       'released_at', 'reprint', 'reserved', 'rulings_uri', 'scryfall_set_uri',\n",
       "       'scryfall_uri', 'set', 'set_name', 'set_search_uri', 'set_type',\n",
       "       'set_uri', 'story_spotlight', 'tcgplayer_id', 'textless', 'toughness',\n",
       "       'type_line', 'uri', 'variation', 'variation_of', 'watermark'],\n",
       "      dtype='object')"
      ]
     },
     "execution_count": 7,
     "metadata": {},
     "output_type": "execute_result"
    }
   ],
   "source": [
    "cards.columns"
   ]
  },
  {
   "cell_type": "markdown",
   "metadata": {},
   "source": [
    "This changes the color identity from a list into a string:"
   ]
  },
  {
   "cell_type": "code",
   "execution_count": 54,
   "metadata": {},
   "outputs": [],
   "source": [
    "cards['color_identity'] = cards['color_identity'].apply(lambda x: \"\".join(x))"
   ]
  },
  {
   "cell_type": "markdown",
   "metadata": {},
   "source": [
    "This is all cards whose color identity is exactly two colors, and type line contains 'creature', but not 'token'."
   ]
  },
  {
   "cell_type": "code",
   "execution_count": 60,
   "metadata": {},
   "outputs": [],
   "source": [
    "two_color = cards[(cards['color_identity'].apply(lambda x: len(x)) == 2)&(cards['type_line'].str.contains('Creature',na=False))&~(cards['type_line'].str.contains('Token',na=False))].copy()"
   ]
  },
  {
   "cell_type": "markdown",
   "metadata": {},
   "source": [
    "This removes everything before and including the dash. The Sen Triplets, for example, would go from:\n",
    "\n",
    "`Legendary Artifact Creature - Human Wizard`\n",
    "\n",
    "to both `Human` and `Wizard`, removing `Legendary Artifact Creature`\n"
   ]
  },
  {
   "cell_type": "code",
   "execution_count": 62,
   "metadata": {},
   "outputs": [],
   "source": [
    "two_color['type_line'] = two_color['type_line'].str.split(\" — \").str[1]"
   ]
  },
  {
   "cell_type": "markdown",
   "metadata": {},
   "source": [
    "This line:\n",
    "- splits up all of the remaining types\n",
    "- puts them into separate columns\n",
    "- 'stacks' them into a single column, retaining the ID\n",
    "-- each entry with more than one type has that many rows\n",
    "- joins on the base data to retain color\n",
    "- returns types and colors\n"
   ]
  },
  {
   "cell_type": "code",
   "execution_count": 92,
   "metadata": {},
   "outputs": [],
   "source": [
    "type_color = two_color['type_line'].str.split(expand=True).stack().reset_index().merge(two_color,left_on='level_0',right_on=two_color.index).iloc[:,[2,13]]"
   ]
  },
  {
   "cell_type": "markdown",
   "metadata": {},
   "source": [
    "This changes the column head to a more readable type:"
   ]
  },
  {
   "cell_type": "code",
   "execution_count": 97,
   "metadata": {},
   "outputs": [],
   "source": [
    "type_color.rename(columns={0:'type'},inplace=True)"
   ]
  },
  {
   "cell_type": "markdown",
   "metadata": {},
   "source": [
    "Groups by color and type, giving the count of the entries as the intersection of the row/column. There are still some extraneous entries at this point (e.g. 'sorcery' and '\\\\'). Those are manually deleted."
   ]
  },
  {
   "cell_type": "code",
   "execution_count": 109,
   "metadata": {},
   "outputs": [],
   "source": [
    "type_color.groupby(['type','color_identity']).size().unstack().fillna(0).to_csv('type_color_counts.csv')"
   ]
  },
  {
   "cell_type": "code",
   "execution_count": null,
   "metadata": {},
   "outputs": [],
   "source": []
  }
 ],
 "metadata": {
  "kernelspec": {
   "display_name": "Python 3",
   "language": "python",
   "name": "python3"
  },
  "language_info": {
   "codemirror_mode": {
    "name": "ipython",
    "version": 3
   },
   "file_extension": ".py",
   "mimetype": "text/x-python",
   "name": "python",
   "nbconvert_exporter": "python",
   "pygments_lexer": "ipython3",
   "version": "3.7.3"
  }
 },
 "nbformat": 4,
 "nbformat_minor": 2
}
